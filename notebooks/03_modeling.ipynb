{
 "cells": [
  {
   "attachments": {},
   "cell_type": "markdown",
   "metadata": {},
   "source": [
    "## Modeling\n",
    "\n",
    "For background on this project, please see the [README](../README.md).\n",
    "\n",
    "**Notebooks**\n",
    "- [Data Acquisition & Cleaning](./01_data_acq_cleaning.ipynb)\n",
    "- [Exploratory Data Analysis](./02_eda.ipynb)\n",
    "- Modeling (this notebook)\n",
    "\n",
    "**In this notebook, you'll find:**\n",
    "- Regression modeling to predict life expectancy\n",
    "- Classification modeling to predict the assigned life expectancy category"
   ]
  },
  {
   "cell_type": "code",
   "execution_count": 1,
   "metadata": {},
   "outputs": [],
   "source": [
    "# Imports\n",
    "\n",
    "import pandas as pd\n",
    "import numpy as np\n",
    "\n",
    "# Modeling tools\n",
    "from sklearn.model_selection import train_test_split\n",
    "from sklearn.preprocessing import MinMaxScaler\n",
    "from sklearn import metrics\n",
    "\n",
    "# Models\n",
    "from sklearn.linear_model import LinearRegression, LogisticRegression\n",
    "from sklearn.tree import DecisionTreeRegressor, DecisionTreeClassifier\n",
    "from sklearn.ensemble import RandomForestRegressor, RandomForestClassifier, GradientBoostingRegressor, GradientBoostingClassifier, AdaBoostRegressor, AdaBoostClassifier, BaggingRegressor, BaggingClassifier\n",
    "from sklearn.neighbors import KNeighborsRegressor, KNeighborsClassifier\n",
    "from sklearn.naive_bayes import MultinomialNB\n",
    "from sklearn.metrics import ConfusionMatrixDisplay, multilabel_confusion_matrix, r2_score"
   ]
  },
  {
   "attachments": {},
   "cell_type": "markdown",
   "metadata": {},
   "source": [
    "To ensure that we're analyzing our data as thoroughly as possible, we'd like to model both with and without our engineered features. This will allow us to better measure the efficacy, if any, of our additional metrics.\n",
    "\n",
    "To streamline the process, we'll be reading in the dataframe without the extra features and, separately, the dataframe that does include them."
   ]
  },
  {
   "cell_type": "code",
   "execution_count": 2,
   "metadata": {},
   "outputs": [
    {
     "data": {
      "text/html": [
       "<div>\n",
       "<style scoped>\n",
       "    .dataframe tbody tr th:only-of-type {\n",
       "        vertical-align: middle;\n",
       "    }\n",
       "\n",
       "    .dataframe tbody tr th {\n",
       "        vertical-align: top;\n",
       "    }\n",
       "\n",
       "    .dataframe thead th {\n",
       "        text-align: right;\n",
       "    }\n",
       "</style>\n",
       "<table border=\"1\" class=\"dataframe\">\n",
       "  <thead>\n",
       "    <tr style=\"text-align: right;\">\n",
       "      <th></th>\n",
       "      <th>geo</th>\n",
       "      <th>year</th>\n",
       "      <th>income_per_person</th>\n",
       "      <th>population</th>\n",
       "      <th>life_expectancy</th>\n",
       "      <th>region</th>\n",
       "      <th>sub-region</th>\n",
       "    </tr>\n",
       "  </thead>\n",
       "  <tbody>\n",
       "    <tr>\n",
       "      <th>0</th>\n",
       "      <td>Afghanistan</td>\n",
       "      <td>1800</td>\n",
       "      <td>603</td>\n",
       "      <td>3280000</td>\n",
       "      <td>28.2</td>\n",
       "      <td>Asia</td>\n",
       "      <td>Southern Asia</td>\n",
       "    </tr>\n",
       "    <tr>\n",
       "      <th>1</th>\n",
       "      <td>Afghanistan</td>\n",
       "      <td>1801</td>\n",
       "      <td>603</td>\n",
       "      <td>3280000</td>\n",
       "      <td>28.2</td>\n",
       "      <td>Asia</td>\n",
       "      <td>Southern Asia</td>\n",
       "    </tr>\n",
       "    <tr>\n",
       "      <th>2</th>\n",
       "      <td>Afghanistan</td>\n",
       "      <td>1802</td>\n",
       "      <td>603</td>\n",
       "      <td>3280000</td>\n",
       "      <td>28.2</td>\n",
       "      <td>Asia</td>\n",
       "      <td>Southern Asia</td>\n",
       "    </tr>\n",
       "    <tr>\n",
       "      <th>3</th>\n",
       "      <td>Afghanistan</td>\n",
       "      <td>1803</td>\n",
       "      <td>603</td>\n",
       "      <td>3280000</td>\n",
       "      <td>28.2</td>\n",
       "      <td>Asia</td>\n",
       "      <td>Southern Asia</td>\n",
       "    </tr>\n",
       "    <tr>\n",
       "      <th>4</th>\n",
       "      <td>Afghanistan</td>\n",
       "      <td>1804</td>\n",
       "      <td>603</td>\n",
       "      <td>3280000</td>\n",
       "      <td>28.2</td>\n",
       "      <td>Asia</td>\n",
       "      <td>Southern Asia</td>\n",
       "    </tr>\n",
       "  </tbody>\n",
       "</table>\n",
       "</div>"
      ],
      "text/plain": [
       "           geo  year  income_per_person  population  life_expectancy region  \\\n",
       "0  Afghanistan  1800                603     3280000             28.2   Asia   \n",
       "1  Afghanistan  1801                603     3280000             28.2   Asia   \n",
       "2  Afghanistan  1802                603     3280000             28.2   Asia   \n",
       "3  Afghanistan  1803                603     3280000             28.2   Asia   \n",
       "4  Afghanistan  1804                603     3280000             28.2   Asia   \n",
       "\n",
       "      sub-region  \n",
       "0  Southern Asia  \n",
       "1  Southern Asia  \n",
       "2  Southern Asia  \n",
       "3  Southern Asia  \n",
       "4  Southern Asia  "
      ]
     },
     "execution_count": 2,
     "metadata": {},
     "output_type": "execute_result"
    }
   ],
   "source": [
    "non_feat_eng_gap = pd.read_csv('../data/aggregated_df_cleaned.csv')\n",
    "\n",
    "# Dropping ID because it would be repetitive to use with the geo column in modeling\n",
    "non_feat_eng_gap.drop(columns='id', inplace=True)\n",
    "\n",
    "non_feat_eng_gap.head()"
   ]
  },
  {
   "cell_type": "code",
   "execution_count": 3,
   "metadata": {},
   "outputs": [
    {
     "data": {
      "text/html": [
       "<div>\n",
       "<style scoped>\n",
       "    .dataframe tbody tr th:only-of-type {\n",
       "        vertical-align: middle;\n",
       "    }\n",
       "\n",
       "    .dataframe tbody tr th {\n",
       "        vertical-align: top;\n",
       "    }\n",
       "\n",
       "    .dataframe thead th {\n",
       "        text-align: right;\n",
       "    }\n",
       "</style>\n",
       "<table border=\"1\" class=\"dataframe\">\n",
       "  <thead>\n",
       "    <tr style=\"text-align: right;\">\n",
       "      <th></th>\n",
       "      <th>geo</th>\n",
       "      <th>year</th>\n",
       "      <th>income_per_person</th>\n",
       "      <th>population</th>\n",
       "      <th>life_expectancy</th>\n",
       "      <th>region</th>\n",
       "      <th>sub-region</th>\n",
       "      <th>income_per_person_low_q</th>\n",
       "      <th>income_per_person_high_q</th>\n",
       "      <th>income_per_person_category</th>\n",
       "      <th>population_low_q</th>\n",
       "      <th>population_high_q</th>\n",
       "      <th>population_category</th>\n",
       "      <th>life_expectancy_low_q</th>\n",
       "      <th>life_expectancy_high_q</th>\n",
       "      <th>life_expectancy_category</th>\n",
       "    </tr>\n",
       "  </thead>\n",
       "  <tbody>\n",
       "    <tr>\n",
       "      <th>0</th>\n",
       "      <td>Afghanistan</td>\n",
       "      <td>1800</td>\n",
       "      <td>603</td>\n",
       "      <td>3280000</td>\n",
       "      <td>28.2</td>\n",
       "      <td>Asia</td>\n",
       "      <td>Southern Asia</td>\n",
       "      <td>575.0</td>\n",
       "      <td>1230.0</td>\n",
       "      <td>average</td>\n",
       "      <td>121000.0</td>\n",
       "      <td>3030000.0</td>\n",
       "      <td>high</td>\n",
       "      <td>28.8</td>\n",
       "      <td>35.1</td>\n",
       "      <td>low</td>\n",
       "    </tr>\n",
       "    <tr>\n",
       "      <th>1</th>\n",
       "      <td>Afghanistan</td>\n",
       "      <td>1801</td>\n",
       "      <td>603</td>\n",
       "      <td>3280000</td>\n",
       "      <td>28.2</td>\n",
       "      <td>Asia</td>\n",
       "      <td>Southern Asia</td>\n",
       "      <td>575.0</td>\n",
       "      <td>1230.0</td>\n",
       "      <td>average</td>\n",
       "      <td>121000.0</td>\n",
       "      <td>3050000.0</td>\n",
       "      <td>high</td>\n",
       "      <td>28.7</td>\n",
       "      <td>35.2</td>\n",
       "      <td>low</td>\n",
       "    </tr>\n",
       "    <tr>\n",
       "      <th>2</th>\n",
       "      <td>Afghanistan</td>\n",
       "      <td>1802</td>\n",
       "      <td>603</td>\n",
       "      <td>3280000</td>\n",
       "      <td>28.2</td>\n",
       "      <td>Asia</td>\n",
       "      <td>Southern Asia</td>\n",
       "      <td>574.0</td>\n",
       "      <td>1230.0</td>\n",
       "      <td>average</td>\n",
       "      <td>121000.0</td>\n",
       "      <td>3060000.0</td>\n",
       "      <td>high</td>\n",
       "      <td>28.7</td>\n",
       "      <td>35.1</td>\n",
       "      <td>low</td>\n",
       "    </tr>\n",
       "    <tr>\n",
       "      <th>3</th>\n",
       "      <td>Afghanistan</td>\n",
       "      <td>1803</td>\n",
       "      <td>603</td>\n",
       "      <td>3280000</td>\n",
       "      <td>28.2</td>\n",
       "      <td>Asia</td>\n",
       "      <td>Southern Asia</td>\n",
       "      <td>574.0</td>\n",
       "      <td>1230.0</td>\n",
       "      <td>average</td>\n",
       "      <td>121000.0</td>\n",
       "      <td>3070000.0</td>\n",
       "      <td>high</td>\n",
       "      <td>28.7</td>\n",
       "      <td>35.0</td>\n",
       "      <td>low</td>\n",
       "    </tr>\n",
       "    <tr>\n",
       "      <th>4</th>\n",
       "      <td>Afghanistan</td>\n",
       "      <td>1804</td>\n",
       "      <td>603</td>\n",
       "      <td>3280000</td>\n",
       "      <td>28.2</td>\n",
       "      <td>Asia</td>\n",
       "      <td>Southern Asia</td>\n",
       "      <td>573.0</td>\n",
       "      <td>1230.0</td>\n",
       "      <td>average</td>\n",
       "      <td>121000.0</td>\n",
       "      <td>3080000.0</td>\n",
       "      <td>high</td>\n",
       "      <td>28.7</td>\n",
       "      <td>35.0</td>\n",
       "      <td>low</td>\n",
       "    </tr>\n",
       "  </tbody>\n",
       "</table>\n",
       "</div>"
      ],
      "text/plain": [
       "           geo  year  income_per_person  population  life_expectancy region  \\\n",
       "0  Afghanistan  1800                603     3280000             28.2   Asia   \n",
       "1  Afghanistan  1801                603     3280000             28.2   Asia   \n",
       "2  Afghanistan  1802                603     3280000             28.2   Asia   \n",
       "3  Afghanistan  1803                603     3280000             28.2   Asia   \n",
       "4  Afghanistan  1804                603     3280000             28.2   Asia   \n",
       "\n",
       "      sub-region  income_per_person_low_q  income_per_person_high_q  \\\n",
       "0  Southern Asia                    575.0                    1230.0   \n",
       "1  Southern Asia                    575.0                    1230.0   \n",
       "2  Southern Asia                    574.0                    1230.0   \n",
       "3  Southern Asia                    574.0                    1230.0   \n",
       "4  Southern Asia                    573.0                    1230.0   \n",
       "\n",
       "  income_per_person_category  population_low_q  population_high_q  \\\n",
       "0                    average          121000.0          3030000.0   \n",
       "1                    average          121000.0          3050000.0   \n",
       "2                    average          121000.0          3060000.0   \n",
       "3                    average          121000.0          3070000.0   \n",
       "4                    average          121000.0          3080000.0   \n",
       "\n",
       "  population_category  life_expectancy_low_q  life_expectancy_high_q  \\\n",
       "0                high                   28.8                    35.1   \n",
       "1                high                   28.7                    35.2   \n",
       "2                high                   28.7                    35.1   \n",
       "3                high                   28.7                    35.0   \n",
       "4                high                   28.7                    35.0   \n",
       "\n",
       "  life_expectancy_category  \n",
       "0                      low  \n",
       "1                      low  \n",
       "2                      low  \n",
       "3                      low  \n",
       "4                      low  "
      ]
     },
     "execution_count": 3,
     "metadata": {},
     "output_type": "execute_result"
    }
   ],
   "source": [
    "gap = pd.read_csv('../data/gap_features_engineered.csv')\n",
    "gap.drop(columns='id', inplace=True)\n",
    "\n",
    "gap.head()"
   ]
  },
  {
   "attachments": {},
   "cell_type": "markdown",
   "metadata": {},
   "source": [
    "---\n",
    "### Establishing the Regression Baseline"
   ]
  },
  {
   "cell_type": "code",
   "execution_count": 4,
   "metadata": {},
   "outputs": [
    {
     "data": {
      "text/plain": [
       "43.20531068920399"
      ]
     },
     "execution_count": 4,
     "metadata": {},
     "output_type": "execute_result"
    }
   ],
   "source": [
    "gap['life_expectancy'].mean()"
   ]
  },
  {
   "cell_type": "code",
   "execution_count": 5,
   "metadata": {},
   "outputs": [
    {
     "name": "stdout",
     "output_type": "stream",
     "text": [
      "The baseline model R² score is -0.000105\n",
      "The baseline model RMSE is 16.326366\n"
     ]
    }
   ],
   "source": [
    "X = gap.drop(columns='life_expectancy')\n",
    "y = gap['life_expectancy']\n",
    "X_train, X_test, y_train, y_test = train_test_split(X, y, random_state= 42)\n",
    "\n",
    "reg_baseline = gap['life_expectancy'].mean()\n",
    "baseline_model = [reg_baseline] * len(y_test)\n",
    "\n",
    "baseline_r2 = r2_score(y_test, baseline_model)\n",
    "baseline_rmse = np.sqrt(metrics.mean_squared_error(y_test, baseline_model))\n",
    "\n",
    "print(f\"The baseline model R\\u00b2 score is {round(baseline_r2, 6)}\")\n",
    "print(f\"The baseline model RMSE is {round(baseline_rmse, 6)}\")"
   ]
  },
  {
   "attachments": {},
   "cell_type": "markdown",
   "metadata": {},
   "source": [
    "- Using the mean of our target variable as the prediction for all test observations, we've achieved an R<sup>2</sup> score of just below zero.\n",
    "- This tells us that our baseline model does not predict life expectancy very well, and is about 16 years off of the true value, on average.\n",
    "- This score will act as the benchmark for our regression models and aids in evaluating the predictive power of our features."
   ]
  },
  {
   "attachments": {},
   "cell_type": "markdown",
   "metadata": {},
   "source": [
    "---\n",
    "\n",
    "### Regression Modeling Function"
   ]
  },
  {
   "attachments": {},
   "cell_type": "markdown",
   "metadata": {},
   "source": [
    "All scores, features, and feature counts will be added to this dataframe to aid in the evaluation of each of our models."
   ]
  },
  {
   "cell_type": "code",
   "execution_count": 6,
   "metadata": {},
   "outputs": [],
   "source": [
    "reg_models_eval = pd.DataFrame(columns=['model_used', 'train_score', 'test_score', 'rmse', 'features_used', 'num_features'])"
   ]
  },
  {
   "cell_type": "code",
   "execution_count": 7,
   "metadata": {},
   "outputs": [],
   "source": [
    "def reg_model(model, model_X, model_y, model_id, fe):\n",
    "    X = model_X\n",
    "    y = model_y\n",
    "    X_train, X_test, y_train, y_test = train_test_split(X, y, random_state= 42)\n",
    "\n",
    "    sc = MinMaxScaler()\n",
    "    X_sc_train = sc.fit_transform(X_train)\n",
    "    X_sc_test = sc.transform(X_test)\n",
    "\n",
    "    model.fit(X_sc_train, y_train)\n",
    "    preds = model.predict(X_sc_test)\n",
    "\n",
    "    train_score = model.score(X_sc_train, y_train)\n",
    "    test_score = model.score(X_sc_test, y_test)\n",
    "    rmse = np.sqrt(metrics.mean_squared_error(y_test, preds))\n",
    "\n",
    "    feats_used = list(model_X.columns)\n",
    "    num_feats = len(feats_used)\n",
    "\n",
    "    if fe == False:\n",
    "        fe = 'Non-FE '\n",
    "    else:\n",
    "        fe = ''\n",
    "    model_id = fe + model_id\n",
    "    \n",
    "    model_list = [model_id, train_score, test_score, rmse, feats_used, num_feats]\n",
    "    reg_models_eval.loc[len(reg_models_eval.index)] = model_list\n",
    "    \n",
    "    print(f'{model_id} train score: {train_score}')\n",
    "    print(f'{model_id} test score: {test_score}')\n",
    "    print(f'{model_id} RMSE: {rmse}')"
   ]
  },
  {
   "attachments": {},
   "cell_type": "markdown",
   "metadata": {},
   "source": [
    "---\n",
    "\n",
    "### Regression Models to Predict Life Expectancy"
   ]
  },
  {
   "attachments": {},
   "cell_type": "markdown",
   "metadata": {},
   "source": [
    "#### Non-Feature Engineered Dataset Models"
   ]
  },
  {
   "attachments": {},
   "cell_type": "markdown",
   "metadata": {},
   "source": [
    "To start, we'll be using population, income per person, year, and the region/sub-region to predict life expectancy. We'll then add in the geo column and compare the test scores."
   ]
  },
  {
   "cell_type": "code",
   "execution_count": 8,
   "metadata": {},
   "outputs": [],
   "source": [
    "non_fe_gap_dummy = pd.get_dummies(non_feat_eng_gap, columns = ['region', 'sub-region'])"
   ]
  },
  {
   "cell_type": "code",
   "execution_count": 9,
   "metadata": {},
   "outputs": [],
   "source": [
    "X = non_fe_gap_dummy.drop(columns = ['geo', 'life_expectancy'])\n",
    "y = non_fe_gap_dummy['life_expectancy']\n",
    "lr = LinearRegression()"
   ]
  },
  {
   "cell_type": "code",
   "execution_count": 10,
   "metadata": {},
   "outputs": [
    {
     "name": "stdout",
     "output_type": "stream",
     "text": [
      "Non-FE LinReg No Geo train score: 0.7666419909073534\n",
      "Non-FE LinReg No Geo test score: 0.7612591131203961\n",
      "Non-FE LinReg No Geo RMSE: 7.976824460037845\n"
     ]
    }
   ],
   "source": [
    "reg_model(lr, X, y, 'LinReg No Geo', False)"
   ]
  },
  {
   "attachments": {},
   "cell_type": "markdown",
   "metadata": {},
   "source": [
    "Now with geo added back in to be dummified."
   ]
  },
  {
   "cell_type": "code",
   "execution_count": 11,
   "metadata": {},
   "outputs": [],
   "source": [
    "non_fe_gap_dummy = pd.get_dummies(non_feat_eng_gap)"
   ]
  },
  {
   "cell_type": "code",
   "execution_count": 12,
   "metadata": {},
   "outputs": [],
   "source": [
    "X = non_fe_gap_dummy.drop(columns = 'life_expectancy')\n",
    "y = non_fe_gap_dummy['life_expectancy']\n",
    "lr = LinearRegression()"
   ]
  },
  {
   "cell_type": "code",
   "execution_count": 13,
   "metadata": {},
   "outputs": [
    {
     "name": "stdout",
     "output_type": "stream",
     "text": [
      "Non-FE LinReg All Cols train score: 0.7990639434458796\n",
      "Non-FE LinReg All Cols test score: 0.7906222500300919\n",
      "Non-FE LinReg All Cols RMSE: 7.470194296269743\n"
     ]
    }
   ],
   "source": [
    "reg_model(lr, X, y, 'LinReg All Cols', False)"
   ]
  },
  {
   "attachments": {},
   "cell_type": "markdown",
   "metadata": {},
   "source": [
    "- We can see that including the 'geo' column in our non-feature engineered model produced slightly higher scores than when the column was excluded. Unfortunately, these scores still fall below our target 0.85 threshold."
   ]
  },
  {
   "attachments": {},
   "cell_type": "markdown",
   "metadata": {},
   "source": [
    "We're now going to run a few more model trials to test the effects of certain features before we begin trials with our feature-engineered dataframe.\n",
    "To maintain consistency, we'll proceed with using Linear Regression only until we identify our optimal list of features to include.\n",
    "\n",
    "Dropping all region columns next."
   ]
  },
  {
   "cell_type": "code",
   "execution_count": 14,
   "metadata": {},
   "outputs": [],
   "source": [
    "X = non_fe_gap_dummy.drop(columns = [col for col in non_fe_gap_dummy.columns if 'region' in col] + ['life_expectancy'])\n",
    "y = non_fe_gap_dummy['life_expectancy']\n",
    "lr = LinearRegression()"
   ]
  },
  {
   "cell_type": "code",
   "execution_count": 15,
   "metadata": {},
   "outputs": [
    {
     "name": "stdout",
     "output_type": "stream",
     "text": [
      "Non-FE LinReg No Region train score: 0.799073251296393\n",
      "Non-FE LinReg No Region test score: 0.7905904856706578\n",
      "Non-FE LinReg No Region RMSE: 7.470760920320818\n"
     ]
    }
   ],
   "source": [
    "reg_model(lr, X, y, 'LinReg No Region', False)"
   ]
  },
  {
   "attachments": {},
   "cell_type": "markdown",
   "metadata": {},
   "source": [
    "- Removing all region and sub-region columns does not appear to have had a meaningful effect on the model. Both the train and test scores remained nearly the same."
   ]
  },
  {
   "attachments": {},
   "cell_type": "markdown",
   "metadata": {},
   "source": [
    "Now removing the population column."
   ]
  },
  {
   "cell_type": "code",
   "execution_count": 16,
   "metadata": {},
   "outputs": [],
   "source": [
    "X = non_fe_gap_dummy.drop(columns = ['population', 'life_expectancy'])\n",
    "y = non_fe_gap_dummy['life_expectancy']\n",
    "lr = LinearRegression()"
   ]
  },
  {
   "cell_type": "code",
   "execution_count": 17,
   "metadata": {},
   "outputs": [
    {
     "name": "stdout",
     "output_type": "stream",
     "text": [
      "Non-FE LinReg No Pop train score: 0.7957576875172134\n",
      "Non-FE LinReg No Pop test score: 0.7868977400344243\n",
      "Non-FE LinReg No Pop RMSE: 7.536343088142505\n"
     ]
    }
   ],
   "source": [
    "reg_model(lr, X, y, 'LinReg No Pop', False)"
   ]
  },
  {
   "attachments": {},
   "cell_type": "markdown",
   "metadata": {},
   "source": [
    "- This produced marginally lower train and test scores than our all-columns model. As mentioned in our EDA conclusion, population does not seem to be strongly correlated with life expectancy, so predictably would not be critically important in modeling."
   ]
  },
  {
   "attachments": {},
   "cell_type": "markdown",
   "metadata": {},
   "source": [
    "And finally, with our income per person feature removed."
   ]
  },
  {
   "cell_type": "code",
   "execution_count": 18,
   "metadata": {},
   "outputs": [],
   "source": [
    "X = non_fe_gap_dummy.drop(columns = ['income_per_person', 'life_expectancy'])\n",
    "y = non_fe_gap_dummy['life_expectancy']\n",
    "lr = LinearRegression()"
   ]
  },
  {
   "cell_type": "code",
   "execution_count": 19,
   "metadata": {},
   "outputs": [
    {
     "name": "stdout",
     "output_type": "stream",
     "text": [
      "Non-FE LinReg No Income train score: 0.7664089513254762\n",
      "Non-FE LinReg No Income test score: 0.7587974215631085\n",
      "Non-FE LinReg No Income RMSE: 8.017844082476223\n"
     ]
    }
   ],
   "source": [
    "reg_model(lr, X, y, 'LinReg No Income', False)"
   ]
  },
  {
   "attachments": {},
   "cell_type": "markdown",
   "metadata": {},
   "source": [
    "- These are the lowest scores we've seen so far. With a noticeable drop in both train and test scores, this indicates to us that income per person should definitely be used as a feature in our models."
   ]
  },
  {
   "cell_type": "code",
   "execution_count": 20,
   "metadata": {},
   "outputs": [
    {
     "data": {
      "text/html": [
       "<div>\n",
       "<style scoped>\n",
       "    .dataframe tbody tr th:only-of-type {\n",
       "        vertical-align: middle;\n",
       "    }\n",
       "\n",
       "    .dataframe tbody tr th {\n",
       "        vertical-align: top;\n",
       "    }\n",
       "\n",
       "    .dataframe thead th {\n",
       "        text-align: right;\n",
       "    }\n",
       "</style>\n",
       "<table border=\"1\" class=\"dataframe\">\n",
       "  <thead>\n",
       "    <tr style=\"text-align: right;\">\n",
       "      <th></th>\n",
       "      <th>model_used</th>\n",
       "      <th>train_score</th>\n",
       "      <th>test_score</th>\n",
       "      <th>rmse</th>\n",
       "      <th>features_used</th>\n",
       "      <th>num_features</th>\n",
       "    </tr>\n",
       "  </thead>\n",
       "  <tbody>\n",
       "    <tr>\n",
       "      <th>0</th>\n",
       "      <td>Non-FE LinReg No Geo</td>\n",
       "      <td>0.766642</td>\n",
       "      <td>0.761259</td>\n",
       "      <td>7.976824</td>\n",
       "      <td>[year, income_per_person, population, region_A...</td>\n",
       "      <td>25</td>\n",
       "    </tr>\n",
       "    <tr>\n",
       "      <th>1</th>\n",
       "      <td>Non-FE LinReg All Cols</td>\n",
       "      <td>0.799064</td>\n",
       "      <td>0.790622</td>\n",
       "      <td>7.470194</td>\n",
       "      <td>[year, income_per_person, population, geo_Afgh...</td>\n",
       "      <td>196</td>\n",
       "    </tr>\n",
       "    <tr>\n",
       "      <th>2</th>\n",
       "      <td>Non-FE LinReg No Region</td>\n",
       "      <td>0.799073</td>\n",
       "      <td>0.790590</td>\n",
       "      <td>7.470761</td>\n",
       "      <td>[year, income_per_person, population, geo_Afgh...</td>\n",
       "      <td>174</td>\n",
       "    </tr>\n",
       "    <tr>\n",
       "      <th>3</th>\n",
       "      <td>Non-FE LinReg No Pop</td>\n",
       "      <td>0.795758</td>\n",
       "      <td>0.786898</td>\n",
       "      <td>7.536343</td>\n",
       "      <td>[year, income_per_person, geo_Afghanistan, geo...</td>\n",
       "      <td>195</td>\n",
       "    </tr>\n",
       "    <tr>\n",
       "      <th>4</th>\n",
       "      <td>Non-FE LinReg No Income</td>\n",
       "      <td>0.766409</td>\n",
       "      <td>0.758797</td>\n",
       "      <td>8.017844</td>\n",
       "      <td>[year, population, geo_Afghanistan, geo_Albani...</td>\n",
       "      <td>195</td>\n",
       "    </tr>\n",
       "  </tbody>\n",
       "</table>\n",
       "</div>"
      ],
      "text/plain": [
       "                model_used  train_score  test_score      rmse  \\\n",
       "0     Non-FE LinReg No Geo     0.766642    0.761259  7.976824   \n",
       "1   Non-FE LinReg All Cols     0.799064    0.790622  7.470194   \n",
       "2  Non-FE LinReg No Region     0.799073    0.790590  7.470761   \n",
       "3     Non-FE LinReg No Pop     0.795758    0.786898  7.536343   \n",
       "4  Non-FE LinReg No Income     0.766409    0.758797  8.017844   \n",
       "\n",
       "                                       features_used  num_features  \n",
       "0  [year, income_per_person, population, region_A...            25  \n",
       "1  [year, income_per_person, population, geo_Afgh...           196  \n",
       "2  [year, income_per_person, population, geo_Afgh...           174  \n",
       "3  [year, income_per_person, geo_Afghanistan, geo...           195  \n",
       "4  [year, population, geo_Afghanistan, geo_Albani...           195  "
      ]
     },
     "execution_count": 20,
     "metadata": {},
     "output_type": "execute_result"
    }
   ],
   "source": [
    "reg_models_eval"
   ]
  },
  {
   "attachments": {},
   "cell_type": "markdown",
   "metadata": {},
   "source": [
    "- Although our model that used all columns scored similarly to the model that did not use any regional features, the all-columns model achieved a minimally lower RMSE. For this reason, we'll begin model trials on our feature-engineered dataset using all columns."
   ]
  },
  {
   "attachments": {},
   "cell_type": "markdown",
   "metadata": {},
   "source": [
    "---\n",
    "\n",
    "#### Feature Engineered Dataset Models"
   ]
  },
  {
   "cell_type": "code",
   "execution_count": 21,
   "metadata": {},
   "outputs": [],
   "source": [
    "gap_dummy = pd.get_dummies(gap)"
   ]
  },
  {
   "attachments": {},
   "cell_type": "markdown",
   "metadata": {},
   "source": [
    "Because we have our original life expectancy column, as well as several engineered features that measure the relative life expectancy values, we'll be removing all of these from our model so as to preserve the integrity of our scores."
   ]
  },
  {
   "cell_type": "code",
   "execution_count": 22,
   "metadata": {},
   "outputs": [],
   "source": [
    "life_exp_cols = [i for i in gap_dummy.columns if i.startswith('life_exp')]"
   ]
  },
  {
   "cell_type": "code",
   "execution_count": 23,
   "metadata": {},
   "outputs": [],
   "source": [
    "X = gap_dummy.drop(columns=life_exp_cols)\n",
    "y = gap_dummy['life_expectancy']\n",
    "lr = LinearRegression()"
   ]
  },
  {
   "cell_type": "code",
   "execution_count": 24,
   "metadata": {},
   "outputs": [
    {
     "name": "stdout",
     "output_type": "stream",
     "text": [
      "LinReg All Columns train score: 0.8860362865112813\n",
      "LinReg All Columns test score: 0.8804509295882247\n",
      "LinReg All Columns RMSE: 5.644685312155123\n"
     ]
    }
   ],
   "source": [
    "reg_model(lr, X, y, 'LinReg All Columns', True)"
   ]
  },
  {
   "attachments": {},
   "cell_type": "markdown",
   "metadata": {},
   "source": [
    "- Our added features boosted the train and test scores by almost 10%."
   ]
  },
  {
   "attachments": {},
   "cell_type": "markdown",
   "metadata": {},
   "source": [
    "Because our all-columns model scored the best on the non-engineered dataframe, and the scores improved even further when all features were used on the engineered dataset, we feel confident proceeding with our all-features X and y for these model trials.\n",
    "\n",
    "We are going to alter our regression function parameters to account for the now-consistent X and y values."
   ]
  },
  {
   "cell_type": "code",
   "execution_count": 25,
   "metadata": {},
   "outputs": [],
   "source": [
    "def reg_model(model, model_id):\n",
    "    X = gap_dummy.drop(columns=life_exp_cols)\n",
    "    y = gap_dummy['life_expectancy']\n",
    "    X_train, X_test, y_train, y_test = train_test_split(X, y, random_state= 42)\n",
    "\n",
    "    sc = MinMaxScaler()\n",
    "    X_sc_train = sc.fit_transform(X_train)\n",
    "    X_sc_test = sc.transform(X_test)\n",
    "\n",
    "    model.fit(X_sc_train, y_train)\n",
    "    preds = model.predict(X_sc_test)\n",
    "\n",
    "    train_score = model.score(X_sc_train, y_train)\n",
    "    test_score = model.score(X_sc_test, y_test)\n",
    "    rmse = np.sqrt(metrics.mean_squared_error(y_test, preds))\n",
    "\n",
    "    feats_used = list(X.columns)\n",
    "    num_feats = len(feats_used)\n",
    "    \n",
    "    model_list = [model_id, train_score, test_score, rmse, feats_used, num_feats]\n",
    "    reg_models_eval.loc[len(reg_models_eval.index)] = model_list\n",
    "    \n",
    "    print(f'{model_id} train score: {train_score}')\n",
    "    print(f'{model_id} test score: {test_score}')\n",
    "    print(f'{model_id} RMSE: {rmse}')"
   ]
  },
  {
   "attachments": {},
   "cell_type": "markdown",
   "metadata": {},
   "source": [
    "##### Decision Tree Regressor"
   ]
  },
  {
   "cell_type": "code",
   "execution_count": 26,
   "metadata": {},
   "outputs": [
    {
     "name": "stdout",
     "output_type": "stream",
     "text": [
      "Decision Tree Regressor train score: 1.0\n",
      "Decision Tree Regressor test score: 0.983588480717782\n",
      "Decision Tree Regressor RMSE: 2.0914188943304812\n"
     ]
    }
   ],
   "source": [
    "dtree_reg = DecisionTreeRegressor(random_state=42)\n",
    "\n",
    "reg_model(dtree_reg, 'Decision Tree Regressor')"
   ]
  },
  {
   "attachments": {},
   "cell_type": "markdown",
   "metadata": {},
   "source": [
    "- While clearly overfit, these are our best scores so far.\n",
    "- We may need to incorporate bagging into our model to reduce variance."
   ]
  },
  {
   "attachments": {},
   "cell_type": "markdown",
   "metadata": {},
   "source": [
    "##### Random Forest Regressor"
   ]
  },
  {
   "cell_type": "code",
   "execution_count": 27,
   "metadata": {},
   "outputs": [
    {
     "name": "stdout",
     "output_type": "stream",
     "text": [
      "Random Forest Regressor train score: 0.9987023921659202\n",
      "Random Forest Regressor test score: 0.990014590040028\n",
      "Random Forest Regressor RMSE: 1.6313591512304464\n"
     ]
    }
   ],
   "source": [
    "rf_reg = RandomForestRegressor(random_state=42)\n",
    "\n",
    "reg_model(rf_reg, 'Random Forest Regressor')"
   ]
  },
  {
   "attachments": {},
   "cell_type": "markdown",
   "metadata": {},
   "source": [
    "- We are slightly overfit here as well, but less so than our Decision Tree Model. \n",
    "- This may be in part due to the random samples of data used in Random Forest models to prevent overfitting."
   ]
  },
  {
   "attachments": {},
   "cell_type": "markdown",
   "metadata": {},
   "source": [
    "##### Bagging Regressor"
   ]
  },
  {
   "cell_type": "code",
   "execution_count": 28,
   "metadata": {},
   "outputs": [
    {
     "name": "stdout",
     "output_type": "stream",
     "text": [
      "Bagging Regressor train score: 0.9980832752974917\n",
      "Bagging Regressor test score: 0.9895070540225109\n",
      "Bagging Regressor RMSE: 1.6723044753105687\n"
     ]
    }
   ],
   "source": [
    "bag_reg = BaggingRegressor(random_state=42)\n",
    "\n",
    "reg_model(bag_reg, 'Bagging Regressor')"
   ]
  },
  {
   "attachments": {},
   "cell_type": "markdown",
   "metadata": {},
   "source": [
    "- The Bagging model did, in fact, reduce the variance, though not more than the Random Forest model above. \n",
    "- These are two very high-performing regressors that could both be used as our final production model."
   ]
  },
  {
   "attachments": {},
   "cell_type": "markdown",
   "metadata": {},
   "source": [
    "##### Gradient Boosting Regressor"
   ]
  },
  {
   "cell_type": "code",
   "execution_count": 29,
   "metadata": {},
   "outputs": [
    {
     "name": "stdout",
     "output_type": "stream",
     "text": [
      "Gradient Boosting Regressor train score: 0.9483113814289806\n",
      "Gradient Boosting Regressor test score: 0.9438234680853457\n",
      "Gradient Boosting Regressor RMSE: 3.8694041730135464\n"
     ]
    }
   ],
   "source": [
    "gboost_reg = GradientBoostingRegressor(random_state=42)\n",
    "\n",
    "reg_model(gboost_reg, 'Gradient Boosting Regressor')"
   ]
  },
  {
   "attachments": {},
   "cell_type": "markdown",
   "metadata": {},
   "source": [
    "- While these scores are lower than the Random Forest and Bagging models, the Gradient Boost model is the least overfit so far. "
   ]
  },
  {
   "attachments": {},
   "cell_type": "markdown",
   "metadata": {},
   "source": [
    "##### Ada Boost Regressor"
   ]
  },
  {
   "cell_type": "code",
   "execution_count": 30,
   "metadata": {},
   "outputs": [
    {
     "name": "stdout",
     "output_type": "stream",
     "text": [
      "Ada Boost Regressor train score: 0.8139238514444936\n",
      "Ada Boost Regressor test score: 0.8109009334160835\n",
      "Ada Boost Regressor RMSE: 7.099231299110578\n"
     ]
    }
   ],
   "source": [
    "ada_boost_reg = AdaBoostRegressor(random_state=42)\n",
    "\n",
    "reg_model(ada_boost_reg, 'Ada Boost Regressor')"
   ]
  },
  {
   "attachments": {},
   "cell_type": "markdown",
   "metadata": {},
   "source": [
    "- The AdaBoost model did not perform as well as we'd expected it to, and the scores were less than our benchmark Linear Regression model.\n",
    "- Though above our benchmark, we likely will not move forward with AdaBoost as our production model."
   ]
  },
  {
   "attachments": {},
   "cell_type": "markdown",
   "metadata": {},
   "source": [
    "##### KNN Regressor"
   ]
  },
  {
   "cell_type": "code",
   "execution_count": 31,
   "metadata": {},
   "outputs": [
    {
     "name": "stdout",
     "output_type": "stream",
     "text": [
      "KNN Regressor train score: 0.9907314563075328\n",
      "KNN Regressor test score: 0.9842869677354665\n",
      "KNN Regressor RMSE: 2.0464287789732674\n"
     ]
    }
   ],
   "source": [
    "knn_reg = KNeighborsRegressor()\n",
    "\n",
    "reg_model(knn_reg, 'KNN Regressor')"
   ]
  },
  {
   "attachments": {},
   "cell_type": "markdown",
   "metadata": {},
   "source": [
    "- The KNN model scored higher than we'd thought it would! \n",
    "- The difference in train and test scores is greater than that of the Gradient Boost model, but less than those of our Random Forest and Bagging models."
   ]
  },
  {
   "cell_type": "code",
   "execution_count": 49,
   "metadata": {},
   "outputs": [
    {
     "data": {
      "text/html": [
       "<div>\n",
       "<style scoped>\n",
       "    .dataframe tbody tr th:only-of-type {\n",
       "        vertical-align: middle;\n",
       "    }\n",
       "\n",
       "    .dataframe tbody tr th {\n",
       "        vertical-align: top;\n",
       "    }\n",
       "\n",
       "    .dataframe thead th {\n",
       "        text-align: right;\n",
       "    }\n",
       "</style>\n",
       "<table border=\"1\" class=\"dataframe\">\n",
       "  <thead>\n",
       "    <tr style=\"text-align: right;\">\n",
       "      <th></th>\n",
       "      <th>model_used</th>\n",
       "      <th>train_score</th>\n",
       "      <th>test_score</th>\n",
       "      <th>rmse</th>\n",
       "      <th>features_used</th>\n",
       "      <th>num_features</th>\n",
       "      <th>overfitness</th>\n",
       "    </tr>\n",
       "  </thead>\n",
       "  <tbody>\n",
       "    <tr>\n",
       "      <th>7</th>\n",
       "      <td>Random Forest Regressor</td>\n",
       "      <td>0.998702</td>\n",
       "      <td>0.990015</td>\n",
       "      <td>1.631359</td>\n",
       "      <td>[year, income_per_person, population, income_p...</td>\n",
       "      <td>206</td>\n",
       "      <td>0.008688</td>\n",
       "    </tr>\n",
       "    <tr>\n",
       "      <th>8</th>\n",
       "      <td>Bagging Regressor</td>\n",
       "      <td>0.998083</td>\n",
       "      <td>0.989507</td>\n",
       "      <td>1.672304</td>\n",
       "      <td>[year, income_per_person, population, income_p...</td>\n",
       "      <td>206</td>\n",
       "      <td>0.008576</td>\n",
       "    </tr>\n",
       "    <tr>\n",
       "      <th>11</th>\n",
       "      <td>KNN Regressor</td>\n",
       "      <td>0.990731</td>\n",
       "      <td>0.984287</td>\n",
       "      <td>2.046429</td>\n",
       "      <td>[year, income_per_person, population, income_p...</td>\n",
       "      <td>206</td>\n",
       "      <td>0.006444</td>\n",
       "    </tr>\n",
       "    <tr>\n",
       "      <th>6</th>\n",
       "      <td>Decision Tree Regressor</td>\n",
       "      <td>1.000000</td>\n",
       "      <td>0.983588</td>\n",
       "      <td>2.091419</td>\n",
       "      <td>[year, income_per_person, population, income_p...</td>\n",
       "      <td>206</td>\n",
       "      <td>0.016412</td>\n",
       "    </tr>\n",
       "    <tr>\n",
       "      <th>9</th>\n",
       "      <td>Gradient Boosting Regressor</td>\n",
       "      <td>0.948311</td>\n",
       "      <td>0.943823</td>\n",
       "      <td>3.869404</td>\n",
       "      <td>[year, income_per_person, population, income_p...</td>\n",
       "      <td>206</td>\n",
       "      <td>0.004488</td>\n",
       "    </tr>\n",
       "    <tr>\n",
       "      <th>5</th>\n",
       "      <td>LinReg All Columns</td>\n",
       "      <td>0.886036</td>\n",
       "      <td>0.880451</td>\n",
       "      <td>5.644685</td>\n",
       "      <td>[year, income_per_person, population, income_p...</td>\n",
       "      <td>206</td>\n",
       "      <td>0.005585</td>\n",
       "    </tr>\n",
       "    <tr>\n",
       "      <th>10</th>\n",
       "      <td>Ada Boost Regressor</td>\n",
       "      <td>0.813924</td>\n",
       "      <td>0.810901</td>\n",
       "      <td>7.099231</td>\n",
       "      <td>[year, income_per_person, population, income_p...</td>\n",
       "      <td>206</td>\n",
       "      <td>0.003023</td>\n",
       "    </tr>\n",
       "    <tr>\n",
       "      <th>1</th>\n",
       "      <td>Non-FE LinReg All Cols</td>\n",
       "      <td>0.799064</td>\n",
       "      <td>0.790622</td>\n",
       "      <td>7.470194</td>\n",
       "      <td>[year, income_per_person, population, geo_Afgh...</td>\n",
       "      <td>196</td>\n",
       "      <td>0.008442</td>\n",
       "    </tr>\n",
       "    <tr>\n",
       "      <th>2</th>\n",
       "      <td>Non-FE LinReg No Region</td>\n",
       "      <td>0.799073</td>\n",
       "      <td>0.790590</td>\n",
       "      <td>7.470761</td>\n",
       "      <td>[year, income_per_person, population, geo_Afgh...</td>\n",
       "      <td>174</td>\n",
       "      <td>0.008483</td>\n",
       "    </tr>\n",
       "    <tr>\n",
       "      <th>3</th>\n",
       "      <td>Non-FE LinReg No Pop</td>\n",
       "      <td>0.795758</td>\n",
       "      <td>0.786898</td>\n",
       "      <td>7.536343</td>\n",
       "      <td>[year, income_per_person, geo_Afghanistan, geo...</td>\n",
       "      <td>195</td>\n",
       "      <td>0.008860</td>\n",
       "    </tr>\n",
       "    <tr>\n",
       "      <th>0</th>\n",
       "      <td>Non-FE LinReg No Geo</td>\n",
       "      <td>0.766642</td>\n",
       "      <td>0.761259</td>\n",
       "      <td>7.976824</td>\n",
       "      <td>[year, income_per_person, population, region_A...</td>\n",
       "      <td>25</td>\n",
       "      <td>0.005383</td>\n",
       "    </tr>\n",
       "    <tr>\n",
       "      <th>4</th>\n",
       "      <td>Non-FE LinReg No Income</td>\n",
       "      <td>0.766409</td>\n",
       "      <td>0.758797</td>\n",
       "      <td>8.017844</td>\n",
       "      <td>[year, population, geo_Afghanistan, geo_Albani...</td>\n",
       "      <td>195</td>\n",
       "      <td>0.007612</td>\n",
       "    </tr>\n",
       "  </tbody>\n",
       "</table>\n",
       "</div>"
      ],
      "text/plain": [
       "                     model_used  train_score  test_score      rmse  \\\n",
       "7       Random Forest Regressor     0.998702    0.990015  1.631359   \n",
       "8             Bagging Regressor     0.998083    0.989507  1.672304   \n",
       "11                KNN Regressor     0.990731    0.984287  2.046429   \n",
       "6       Decision Tree Regressor     1.000000    0.983588  2.091419   \n",
       "9   Gradient Boosting Regressor     0.948311    0.943823  3.869404   \n",
       "5            LinReg All Columns     0.886036    0.880451  5.644685   \n",
       "10          Ada Boost Regressor     0.813924    0.810901  7.099231   \n",
       "1        Non-FE LinReg All Cols     0.799064    0.790622  7.470194   \n",
       "2       Non-FE LinReg No Region     0.799073    0.790590  7.470761   \n",
       "3          Non-FE LinReg No Pop     0.795758    0.786898  7.536343   \n",
       "0          Non-FE LinReg No Geo     0.766642    0.761259  7.976824   \n",
       "4       Non-FE LinReg No Income     0.766409    0.758797  8.017844   \n",
       "\n",
       "                                        features_used  num_features  \\\n",
       "7   [year, income_per_person, population, income_p...           206   \n",
       "8   [year, income_per_person, population, income_p...           206   \n",
       "11  [year, income_per_person, population, income_p...           206   \n",
       "6   [year, income_per_person, population, income_p...           206   \n",
       "9   [year, income_per_person, population, income_p...           206   \n",
       "5   [year, income_per_person, population, income_p...           206   \n",
       "10  [year, income_per_person, population, income_p...           206   \n",
       "1   [year, income_per_person, population, geo_Afgh...           196   \n",
       "2   [year, income_per_person, population, geo_Afgh...           174   \n",
       "3   [year, income_per_person, geo_Afghanistan, geo...           195   \n",
       "0   [year, income_per_person, population, region_A...            25   \n",
       "4   [year, population, geo_Afghanistan, geo_Albani...           195   \n",
       "\n",
       "    overfitness  \n",
       "7      0.008688  \n",
       "8      0.008576  \n",
       "11     0.006444  \n",
       "6      0.016412  \n",
       "9      0.004488  \n",
       "5      0.005585  \n",
       "10     0.003023  \n",
       "1      0.008442  \n",
       "2      0.008483  \n",
       "3      0.008860  \n",
       "0      0.005383  \n",
       "4      0.007612  "
      ]
     },
     "execution_count": 49,
     "metadata": {},
     "output_type": "execute_result"
    }
   ],
   "source": [
    "reg_models_eval.sort_values(by='rmse')"
   ]
  },
  {
   "attachments": {},
   "cell_type": "markdown",
   "metadata": {},
   "source": [
    "- From the above, we can see that even our best non-FE model did not score as well as our worst all-features model (Ada Boost).\n",
    "- The RMSE metrics appear to follow the same pattern as our test scores, with the Random Forest, Bagging, and KNN models outperforming all others."
   ]
  },
  {
   "attachments": {},
   "cell_type": "markdown",
   "metadata": {},
   "source": [
    "Although we do want to move forward with one of our top-performing models, we also would like to minimize bias and proceed with a model that will score the best on unseen data in future trials."
   ]
  },
  {
   "cell_type": "code",
   "execution_count": 33,
   "metadata": {},
   "outputs": [
    {
     "data": {
      "text/html": [
       "<div>\n",
       "<style scoped>\n",
       "    .dataframe tbody tr th:only-of-type {\n",
       "        vertical-align: middle;\n",
       "    }\n",
       "\n",
       "    .dataframe tbody tr th {\n",
       "        vertical-align: top;\n",
       "    }\n",
       "\n",
       "    .dataframe thead th {\n",
       "        text-align: right;\n",
       "    }\n",
       "</style>\n",
       "<table border=\"1\" class=\"dataframe\">\n",
       "  <thead>\n",
       "    <tr style=\"text-align: right;\">\n",
       "      <th></th>\n",
       "      <th>model_used</th>\n",
       "      <th>train_score</th>\n",
       "      <th>test_score</th>\n",
       "      <th>rmse</th>\n",
       "      <th>features_used</th>\n",
       "      <th>num_features</th>\n",
       "      <th>overfitness</th>\n",
       "    </tr>\n",
       "  </thead>\n",
       "  <tbody>\n",
       "    <tr>\n",
       "      <th>10</th>\n",
       "      <td>Ada Boost Regressor</td>\n",
       "      <td>0.813924</td>\n",
       "      <td>0.810901</td>\n",
       "      <td>7.099231</td>\n",
       "      <td>[year, income_per_person, population, income_p...</td>\n",
       "      <td>206</td>\n",
       "      <td>0.003023</td>\n",
       "    </tr>\n",
       "    <tr>\n",
       "      <th>9</th>\n",
       "      <td>Gradient Boosting Regressor</td>\n",
       "      <td>0.948311</td>\n",
       "      <td>0.943823</td>\n",
       "      <td>3.869404</td>\n",
       "      <td>[year, income_per_person, population, income_p...</td>\n",
       "      <td>206</td>\n",
       "      <td>0.004488</td>\n",
       "    </tr>\n",
       "    <tr>\n",
       "      <th>0</th>\n",
       "      <td>Non-FE LinReg No Geo</td>\n",
       "      <td>0.766642</td>\n",
       "      <td>0.761259</td>\n",
       "      <td>7.976824</td>\n",
       "      <td>[year, income_per_person, population, region_A...</td>\n",
       "      <td>25</td>\n",
       "      <td>0.005383</td>\n",
       "    </tr>\n",
       "    <tr>\n",
       "      <th>5</th>\n",
       "      <td>LinReg All Columns</td>\n",
       "      <td>0.886036</td>\n",
       "      <td>0.880451</td>\n",
       "      <td>5.644685</td>\n",
       "      <td>[year, income_per_person, population, income_p...</td>\n",
       "      <td>206</td>\n",
       "      <td>0.005585</td>\n",
       "    </tr>\n",
       "    <tr>\n",
       "      <th>11</th>\n",
       "      <td>KNN Regressor</td>\n",
       "      <td>0.990731</td>\n",
       "      <td>0.984287</td>\n",
       "      <td>2.046429</td>\n",
       "      <td>[year, income_per_person, population, income_p...</td>\n",
       "      <td>206</td>\n",
       "      <td>0.006444</td>\n",
       "    </tr>\n",
       "    <tr>\n",
       "      <th>4</th>\n",
       "      <td>Non-FE LinReg No Income</td>\n",
       "      <td>0.766409</td>\n",
       "      <td>0.758797</td>\n",
       "      <td>8.017844</td>\n",
       "      <td>[year, population, geo_Afghanistan, geo_Albani...</td>\n",
       "      <td>195</td>\n",
       "      <td>0.007612</td>\n",
       "    </tr>\n",
       "    <tr>\n",
       "      <th>1</th>\n",
       "      <td>Non-FE LinReg All Cols</td>\n",
       "      <td>0.799064</td>\n",
       "      <td>0.790622</td>\n",
       "      <td>7.470194</td>\n",
       "      <td>[year, income_per_person, population, geo_Afgh...</td>\n",
       "      <td>196</td>\n",
       "      <td>0.008442</td>\n",
       "    </tr>\n",
       "    <tr>\n",
       "      <th>2</th>\n",
       "      <td>Non-FE LinReg No Region</td>\n",
       "      <td>0.799073</td>\n",
       "      <td>0.790590</td>\n",
       "      <td>7.470761</td>\n",
       "      <td>[year, income_per_person, population, geo_Afgh...</td>\n",
       "      <td>174</td>\n",
       "      <td>0.008483</td>\n",
       "    </tr>\n",
       "    <tr>\n",
       "      <th>8</th>\n",
       "      <td>Bagging Regressor</td>\n",
       "      <td>0.998083</td>\n",
       "      <td>0.989507</td>\n",
       "      <td>1.672304</td>\n",
       "      <td>[year, income_per_person, population, income_p...</td>\n",
       "      <td>206</td>\n",
       "      <td>0.008576</td>\n",
       "    </tr>\n",
       "    <tr>\n",
       "      <th>7</th>\n",
       "      <td>Random Forest Regressor</td>\n",
       "      <td>0.998702</td>\n",
       "      <td>0.990015</td>\n",
       "      <td>1.631359</td>\n",
       "      <td>[year, income_per_person, population, income_p...</td>\n",
       "      <td>206</td>\n",
       "      <td>0.008688</td>\n",
       "    </tr>\n",
       "    <tr>\n",
       "      <th>3</th>\n",
       "      <td>Non-FE LinReg No Pop</td>\n",
       "      <td>0.795758</td>\n",
       "      <td>0.786898</td>\n",
       "      <td>7.536343</td>\n",
       "      <td>[year, income_per_person, geo_Afghanistan, geo...</td>\n",
       "      <td>195</td>\n",
       "      <td>0.008860</td>\n",
       "    </tr>\n",
       "    <tr>\n",
       "      <th>6</th>\n",
       "      <td>Decision Tree Regressor</td>\n",
       "      <td>1.000000</td>\n",
       "      <td>0.983588</td>\n",
       "      <td>2.091419</td>\n",
       "      <td>[year, income_per_person, population, income_p...</td>\n",
       "      <td>206</td>\n",
       "      <td>0.016412</td>\n",
       "    </tr>\n",
       "  </tbody>\n",
       "</table>\n",
       "</div>"
      ],
      "text/plain": [
       "                     model_used  train_score  test_score      rmse  \\\n",
       "10          Ada Boost Regressor     0.813924    0.810901  7.099231   \n",
       "9   Gradient Boosting Regressor     0.948311    0.943823  3.869404   \n",
       "0          Non-FE LinReg No Geo     0.766642    0.761259  7.976824   \n",
       "5            LinReg All Columns     0.886036    0.880451  5.644685   \n",
       "11                KNN Regressor     0.990731    0.984287  2.046429   \n",
       "4       Non-FE LinReg No Income     0.766409    0.758797  8.017844   \n",
       "1        Non-FE LinReg All Cols     0.799064    0.790622  7.470194   \n",
       "2       Non-FE LinReg No Region     0.799073    0.790590  7.470761   \n",
       "8             Bagging Regressor     0.998083    0.989507  1.672304   \n",
       "7       Random Forest Regressor     0.998702    0.990015  1.631359   \n",
       "3          Non-FE LinReg No Pop     0.795758    0.786898  7.536343   \n",
       "6       Decision Tree Regressor     1.000000    0.983588  2.091419   \n",
       "\n",
       "                                        features_used  num_features  \\\n",
       "10  [year, income_per_person, population, income_p...           206   \n",
       "9   [year, income_per_person, population, income_p...           206   \n",
       "0   [year, income_per_person, population, region_A...            25   \n",
       "5   [year, income_per_person, population, income_p...           206   \n",
       "11  [year, income_per_person, population, income_p...           206   \n",
       "4   [year, population, geo_Afghanistan, geo_Albani...           195   \n",
       "1   [year, income_per_person, population, geo_Afgh...           196   \n",
       "2   [year, income_per_person, population, geo_Afgh...           174   \n",
       "8   [year, income_per_person, population, income_p...           206   \n",
       "7   [year, income_per_person, population, income_p...           206   \n",
       "3   [year, income_per_person, geo_Afghanistan, geo...           195   \n",
       "6   [year, income_per_person, population, income_p...           206   \n",
       "\n",
       "    overfitness  \n",
       "10     0.003023  \n",
       "9      0.004488  \n",
       "0      0.005383  \n",
       "5      0.005585  \n",
       "11     0.006444  \n",
       "4      0.007612  \n",
       "1      0.008442  \n",
       "2      0.008483  \n",
       "8      0.008576  \n",
       "7      0.008688  \n",
       "3      0.008860  \n",
       "6      0.016412  "
      ]
     },
     "execution_count": 33,
     "metadata": {},
     "output_type": "execute_result"
    }
   ],
   "source": [
    "reg_models_eval['overfitness'] = reg_models_eval['train_score'] - reg_models_eval['test_score']\n",
    "reg_models_eval.sort_values(by='overfitness')"
   ]
  },
  {
   "attachments": {},
   "cell_type": "markdown",
   "metadata": {},
   "source": [
    "#### Regression Model Conclusions\n",
    "\n",
    "Overall, we've determined that using our engineered features substantially improved model performance and reduced the models' RMSE. Six of our 12 models met the target R<sup>2</sup> score of 0.85, and just five were under the maximum RMSE threshold of 5.\n",
    "\n",
    "If we were selecting a production model based on RMSE alone, Random Forest is the clear champion with our Bagging Regressor following closely behind. However, we are also taking our models' variance into account, as we cannot proceed with any model that is overfit on the training set and will perform poorly on unseen data. \n",
    "\n",
    "With this in mind, our final model would likely be either KNN, which achieved an RMSE of 2.05, and train/test R<sup>2</sup> scores of .991 and .984, respectively, or our Gradient Boost model that produced a moderately higher RMSE of 3.87, but also had two of the closest train/test R<sup>2</sup> scores of .948 and .944, respectively.\n"
   ]
  },
  {
   "attachments": {},
   "cell_type": "markdown",
   "metadata": {},
   "source": [
    "---\n",
    "\n",
    "### Classification Models to Predict Life Expectancy Category\n",
    "\n",
    "We'll now be moving into predicting a country's life expectancy category. Based on our data, we're expecting accuracy scores in the high 80s to low 90s. In addition to calculating an array of classification metrics, our function will return multi-class confusion matrices for each model, which will help us visualize where they may be struggling to classify. \n",
    "\n",
    "We'll be keeping our X values the same and will again remove any columns that are associated with our target variable - in this case, life expectancy category. Accuracy is our key performance indicator, though we will be looking at our other metrics such as F1 score, precision, recall, and specificity."
   ]
  },
  {
   "attachments": {},
   "cell_type": "markdown",
   "metadata": {},
   "source": [
    "---\n",
    "\n",
    "### Establishing the Classification Baseline"
   ]
  },
  {
   "cell_type": "code",
   "execution_count": 34,
   "metadata": {},
   "outputs": [],
   "source": [
    "cols_to_dummy = [x for x in gap.select_dtypes('object').columns if x != 'life_expectancy_category']\n",
    "\n",
    "gap_class_dummy = pd.get_dummies(gap, columns=cols_to_dummy)\n",
    "gap_class_dummy.drop(columns=[col for col in gap_class_dummy if col.startswith('life_exp') and col != 'life_expectancy_category'], inplace=True)"
   ]
  },
  {
   "cell_type": "code",
   "execution_count": 35,
   "metadata": {},
   "outputs": [
    {
     "data": {
      "text/plain": [
       "average    0.583060\n",
       "low        0.210713\n",
       "high       0.206227\n",
       "Name: life_expectancy_category, dtype: float64"
      ]
     },
     "execution_count": 35,
     "metadata": {},
     "output_type": "execute_result"
    }
   ],
   "source": [
    "gap_class_dummy['life_expectancy_category'].value_counts(normalize=True)"
   ]
  },
  {
   "attachments": {},
   "cell_type": "markdown",
   "metadata": {},
   "source": [
    "- Based on the distribution of our target variable, we could reasonably expect about 60% accuracy if we predicted the most frequent class every time."
   ]
  },
  {
   "attachments": {},
   "cell_type": "markdown",
   "metadata": {},
   "source": [
    "---\n",
    "\n",
    "### Classification Modeling Function"
   ]
  },
  {
   "cell_type": "code",
   "execution_count": 36,
   "metadata": {},
   "outputs": [],
   "source": [
    "class_models_eval = pd.DataFrame(columns=['model_used', 'train_score', 'test_score',\n",
    "'accuracy', 'f1_score', 'precision', 'recall', 'specificity'])"
   ]
  },
  {
   "cell_type": "code",
   "execution_count": 37,
   "metadata": {},
   "outputs": [],
   "source": [
    "def class_model(model, model_id):\n",
    "\n",
    "    '''Defining X and y'''\n",
    "    X = gap_class_dummy.drop(columns='life_expectancy_category')\n",
    "    y = gap_class_dummy['life_expectancy_category']\n",
    "    X_train, X_test, y_train, y_test = train_test_split(X, y, random_state= 42)\n",
    "\n",
    "    sc = MinMaxScaler()\n",
    "    X_sc_train = sc.fit_transform(X_train)\n",
    "    X_sc_test = sc.transform(X_test)\n",
    "\n",
    "    model.fit(X_sc_train, y_train)\n",
    "    train_score = model.score(X_sc_train, y_train)\n",
    "    test_score = model.score(X_sc_test, y_test)\n",
    "\n",
    "    '''Calculating accuracy and misclassification rates'''\n",
    "    preds = model.predict(X_sc_test)\n",
    "    tn, fp, fn, tp, tn, fp, fn, tp, tn, fp, fn, tp = multilabel_confusion_matrix(y_test, preds, labels=['average', 'high', 'low']).ravel()\n",
    "    acc = (tp + tn) / (tn + fp + tp + fn)\n",
    "    misclass = 1 - acc\n",
    "    spec = tn / (tn + fp)\n",
    "    prec = tp / (tp + fp)\n",
    "    recall = tp / (tp + fn)\n",
    "    f1 = ((prec * recall) / (prec + recall)) * 2\n",
    "\n",
    "    '''Adding all metrics to our model evaluation dataframe'''\n",
    "    model_list = [model_id, train_score, test_score, acc, f1, prec, recall, spec]\n",
    "    class_models_eval.loc[len(class_models_eval.index)] = model_list\n",
    "\n",
    "    '''Output will show all scores'''\n",
    "    print(f'{model_id} Training Score: {round(train_score, 5)}')\n",
    "    print(f'{model_id} Testing Score: {round(test_score, 5)} \\n')\n",
    "    print(f'Accuracy Rate: {round(acc, 5)}')\n",
    "    print(f'Misclassification Rate: {round(misclass, 5)}')\n",
    "    print(f'Specificity Rate: {round(spec, 5)}')\n",
    "    print(f'Precision Rate: {round(prec, 5)}')\n",
    "    print(f'Recall Rate: {round(recall, 5)}')\n",
    "    print(f'F1 Score: {round(f1, 5)}')\n",
    "\n",
    "    '''Returning a confusion matrix for each model'''\n",
    "    print(f'{model_id} confusion matrix:')\n",
    "    return ConfusionMatrixDisplay.from_predictions(y_test, preds, cmap='YlGnBu', values_format='d');"
   ]
  },
  {
   "attachments": {},
   "cell_type": "markdown",
   "metadata": {},
   "source": [
    "---\n",
    "\n",
    "### Classification Models to Predict Life Expectancy Category"
   ]
  },
  {
   "attachments": {},
   "cell_type": "markdown",
   "metadata": {},
   "source": [
    "##### Logistic Regression"
   ]
  },
  {
   "cell_type": "code",
   "execution_count": 38,
   "metadata": {},
   "outputs": [
    {
     "name": "stdout",
     "output_type": "stream",
     "text": [
      "Logistic Regression Training Score: 0.80421\n",
      "Logistic Regression Testing Score: 0.79974 \n",
      "\n",
      "Accuracy Rate: 0.87568\n",
      "Misclassification Rate: 0.12432\n",
      "Specificity Rate: 0.92905\n",
      "Precision Rate: 0.71123\n",
      "Recall Rate: 0.6708\n",
      "F1 Score: 0.69043\n",
      "Logistic Regression confusion matrix:\n"
     ]
    },
    {
     "data": {
      "text/plain": [
       "<sklearn.metrics._plot.confusion_matrix.ConfusionMatrixDisplay at 0x132369df0>"
      ]
     },
     "execution_count": 38,
     "metadata": {},
     "output_type": "execute_result"
    },
    {
     "data": {
      "image/png": "[encoded data removed]",
      "text/plain": [
       "<Figure size 640x480 with 2 Axes>"
      ]
     },
     "metadata": {},
     "output_type": "display_data"
    }
   ],
   "source": [
    "logreg = LogisticRegression(max_iter=10_000, random_state=42)\n",
    "\n",
    "class_model(logreg, 'Logistic Regression')"
   ]
  },
  {
   "attachments": {},
   "cell_type": "markdown",
   "metadata": {},
   "source": [
    "- The Logistic Regression model performed decently well and saw a 0.876 accuracy score. \n",
    "- It appears that this model struggles to differentiate between countries labeled as 'average' and those ranked as 'low' in terms of life expectancy category.\n",
    "- We'd predict that this is where most of our other models will falter, as well.\n",
    "- There also seems to be some trouble in discerning between 'average' and 'high' labeled countries. We'll make a note to pay attention to this in our upcoming models, as it could indicate a blind spot in our models/function."
   ]
  },
  {
   "attachments": {},
   "cell_type": "markdown",
   "metadata": {},
   "source": [
    "##### Decision Tree Classifier"
   ]
  },
  {
   "cell_type": "code",
   "execution_count": 39,
   "metadata": {},
   "outputs": [
    {
     "name": "stdout",
     "output_type": "stream",
     "text": [
      "Decision Tree Classifier Training Score: 1.0\n",
      "Decision Tree Classifier Testing Score: 0.95867 \n",
      "\n",
      "Accuracy Rate: 0.97458\n",
      "Misclassification Rate: 0.02542\n",
      "Specificity Rate: 0.98546\n",
      "Precision Rate: 0.94354\n",
      "Recall Rate: 0.93282\n",
      "F1 Score: 0.93815\n",
      "Decision Tree Classifier confusion matrix:\n"
     ]
    },
    {
     "data": {
      "text/plain": [
       "<sklearn.metrics._plot.confusion_matrix.ConfusionMatrixDisplay at 0x13032d490>"
      ]
     },
     "execution_count": 39,
     "metadata": {},
     "output_type": "execute_result"
    },
    {
     "data": {
      "image/png": "[encoded data removed]",
      "text/plain": [
       "<Figure size 640x480 with 2 Axes>"
      ]
     },
     "metadata": {},
     "output_type": "display_data"
    }
   ],
   "source": [
    "dtree_class = DecisionTreeClassifier(random_state=42)\n",
    "\n",
    "class_model(dtree_class, 'Decision Tree Classifier')"
   ]
  },
  {
   "attachments": {},
   "cell_type": "markdown",
   "metadata": {},
   "source": [
    "- While definitely overfit, the Decision Tree model scored about 10% higher in accuracy.\n",
    "- We still see a similar pattern of mistaking 'low' for 'average' and vice versa, but our classifier was clearly more adept at separating the two than our Logistic Regression model."
   ]
  },
  {
   "attachments": {},
   "cell_type": "markdown",
   "metadata": {},
   "source": [
    "##### Random Forest Classifier"
   ]
  },
  {
   "cell_type": "code",
   "execution_count": 40,
   "metadata": {},
   "outputs": [
    {
     "name": "stdout",
     "output_type": "stream",
     "text": [
      "Random Forest Classifier Training Score: 1.0\n",
      "Random Forest Classifier Testing Score: 0.96443 \n",
      "\n",
      "Accuracy Rate: 0.97832\n",
      "Misclassification Rate: 0.02168\n",
      "Specificity Rate: 0.99085\n",
      "Precision Rate: 0.9636\n",
      "Recall Rate: 0.93023\n",
      "F1 Score: 0.94662\n",
      "Random Forest Classifier confusion matrix:\n"
     ]
    },
    {
     "data": {
      "text/plain": [
       "<sklearn.metrics._plot.confusion_matrix.ConfusionMatrixDisplay at 0x1406698b0>"
      ]
     },
     "execution_count": 40,
     "metadata": {},
     "output_type": "execute_result"
    },
    {
     "data": {
      "image/png": "[encoded data removed]",
      "text/plain": [
       "<Figure size 640x480 with 2 Axes>"
      ]
     },
     "metadata": {},
     "output_type": "display_data"
    }
   ],
   "source": [
    "rf_class = RandomForestClassifier(random_state=42)\n",
    "\n",
    "class_model(rf_class, 'Random Forest Classifier')"
   ]
  },
  {
   "attachments": {},
   "cell_type": "markdown",
   "metadata": {},
   "source": [
    "- Similar to our regression trials, Random Forest again scored very high on both the train and test datasets. This model is also overfit.\n",
    "- The 0.978 accuracy score is greater than the Decision Tree model by a slim margin of about 0.004.\n",
    "- This model also ran into some difficulty classifying the low and average countries, but significantly reduced the number of 'average' countries predicted as 'low' compared to the two previous models."
   ]
  },
  {
   "attachments": {},
   "cell_type": "markdown",
   "metadata": {},
   "source": [
    "##### Bagging Classifier"
   ]
  },
  {
   "cell_type": "code",
   "execution_count": 41,
   "metadata": {},
   "outputs": [
    {
     "name": "stdout",
     "output_type": "stream",
     "text": [
      "Bagging Classifier Training Score: 0.9969\n",
      "Bagging Classifier Testing Score: 0.96369 \n",
      "\n",
      "Accuracy Rate: 0.97811\n",
      "Misclassification Rate: 0.02189\n",
      "Specificity Rate: 0.99058\n",
      "Precision Rate: 0.96257\n",
      "Recall Rate: 0.93023\n",
      "F1 Score: 0.94612\n",
      "Bagging Classifier confusion matrix:\n"
     ]
    },
    {
     "data": {
      "text/plain": [
       "<sklearn.metrics._plot.confusion_matrix.ConfusionMatrixDisplay at 0x140733e80>"
      ]
     },
     "execution_count": 41,
     "metadata": {},
     "output_type": "execute_result"
    },
    {
     "data": {
      "image/png": "[encoded data removed]",
      "text/plain": [
       "<Figure size 640x480 with 2 Axes>"
      ]
     },
     "metadata": {},
     "output_type": "display_data"
    }
   ],
   "source": [
    "bag_class = BaggingClassifier(random_state=42)\n",
    "\n",
    "class_model(bag_class, 'Bagging Classifier')"
   ]
  },
  {
   "attachments": {},
   "cell_type": "markdown",
   "metadata": {},
   "source": [
    "- The Bagging model classified very similarly to our Random Forest model, with a few adjustments that led to seven additional mislabeled predictions and a negligible decrease in accuracy by 0.000214.\n",
    "- We see less variance here than in the previous two models, but there is still slight overfitness in our train/test scores."
   ]
  },
  {
   "attachments": {},
   "cell_type": "markdown",
   "metadata": {},
   "source": [
    "##### Gradient Boosting Classifier"
   ]
  },
  {
   "cell_type": "code",
   "execution_count": 42,
   "metadata": {},
   "outputs": [
    {
     "name": "stdout",
     "output_type": "stream",
     "text": [
      "Gradient Boosting Classifier Training Score: 0.88094\n",
      "Gradient Boosting Classifier Testing Score: 0.87643 \n",
      "\n",
      "Accuracy Rate: 0.93101\n",
      "Misclassification Rate: 0.06899\n",
      "Specificity Rate: 0.98815\n",
      "Precision Rate: 0.93993\n",
      "Recall Rate: 0.71163\n",
      "F1 Score: 0.81\n",
      "Gradient Boosting Classifier confusion matrix:\n"
     ]
    },
    {
     "data": {
      "text/plain": [
       "<sklearn.metrics._plot.confusion_matrix.ConfusionMatrixDisplay at 0x1407f3550>"
      ]
     },
     "execution_count": 42,
     "metadata": {},
     "output_type": "execute_result"
    },
    {
     "data": {
      "image/png": "[encoded data removed]",
      "text/plain": [
       "<Figure size 640x480 with 2 Axes>"
      ]
     },
     "metadata": {},
     "output_type": "display_data"
    }
   ],
   "source": [
    "gboost_class = GradientBoostingClassifier(random_state=42)\n",
    "\n",
    "class_model(gboost_class, 'Gradient Boosting Classifier')"
   ]
  },
  {
   "attachments": {},
   "cell_type": "markdown",
   "metadata": {},
   "source": [
    "- The Gradient Boosting model did not perform as well as we'd expected it to.\n",
    "- The most common misclassification was the swapping of 'low' for 'average', which is true of our other models, as well.\n",
    "- However, this model also saw a large uptick in 'average'/'high' mistakes, leading to a drop in recall rate.\n",
    "- This is the least overfit model we've seen so far."
   ]
  },
  {
   "attachments": {},
   "cell_type": "markdown",
   "metadata": {},
   "source": [
    "##### Ada Boost Classifier"
   ]
  },
  {
   "cell_type": "code",
   "execution_count": 43,
   "metadata": {},
   "outputs": [
    {
     "name": "stdout",
     "output_type": "stream",
     "text": [
      "Ada Boost Classifier Training Score: 0.70334\n",
      "Ada Boost Classifier Testing Score: 0.71099 \n",
      "\n",
      "Accuracy Rate: 0.81683\n",
      "Misclassification Rate: 0.18317\n",
      "Specificity Rate: 0.93376\n",
      "Precision Rate: 0.59136\n",
      "Recall Rate: 0.36796\n",
      "F1 Score: 0.45365\n",
      "Ada Boost Classifier confusion matrix:\n"
     ]
    },
    {
     "data": {
      "text/plain": [
       "<sklearn.metrics._plot.confusion_matrix.ConfusionMatrixDisplay at 0x1408c2250>"
      ]
     },
     "execution_count": 43,
     "metadata": {},
     "output_type": "execute_result"
    },
    {
     "data": {
      "image/png": "[encoded data removed]",
      "text/plain": [
       "<Figure size 640x480 with 2 Axes>"
      ]
     },
     "metadata": {},
     "output_type": "display_data"
    }
   ],
   "source": [
    "adaboost_class = AdaBoostClassifier(random_state=42)\n",
    "\n",
    "class_model(adaboost_class, 'Ada Boost Classifier')"
   ]
  },
  {
   "attachments": {},
   "cell_type": "markdown",
   "metadata": {},
   "source": [
    "- Though we were optimistic, our Ada Boost model did not perform well.\n",
    "- It did alright on specificity, but all other metrics decreased significantly, including accuracy, precision, recall, and train/test scores."
   ]
  },
  {
   "attachments": {},
   "cell_type": "markdown",
   "metadata": {},
   "source": [
    "##### KNN Classifier"
   ]
  },
  {
   "cell_type": "code",
   "execution_count": 44,
   "metadata": {},
   "outputs": [
    {
     "name": "stdout",
     "output_type": "stream",
     "text": [
      "KNN Classifier Training Score: 0.97714\n",
      "KNN Classifier Testing Score: 0.95856 \n",
      "\n",
      "Accuracy Rate: 0.9749\n",
      "Misclassification Rate: 0.0251\n",
      "Specificity Rate: 0.9856\n",
      "Precision Rate: 0.9441\n",
      "Recall Rate: 0.93385\n",
      "F1 Score: 0.93895\n",
      "KNN Classifier confusion matrix:\n"
     ]
    },
    {
     "data": {
      "text/plain": [
       "<sklearn.metrics._plot.confusion_matrix.ConfusionMatrixDisplay at 0x1409796d0>"
      ]
     },
     "execution_count": 44,
     "metadata": {},
     "output_type": "execute_result"
    },
    {
     "data": {
      "image/png": "[encoded data removed]",
      "text/plain": [
       "<Figure size 640x480 with 2 Axes>"
      ]
     },
     "metadata": {},
     "output_type": "display_data"
    }
   ],
   "source": [
    "knn_class = KNeighborsClassifier()\n",
    "\n",
    "class_model(knn_class, 'KNN Classifier')"
   ]
  },
  {
   "attachments": {},
   "cell_type": "markdown",
   "metadata": {},
   "source": [
    "- The KNN model scored almost as high as our Random Forest and Bagging trials, but also has the least variance of the three.\n",
    "- Due to the high scores and low variance, KNN is a strong contender to be selected as our final model."
   ]
  },
  {
   "attachments": {},
   "cell_type": "markdown",
   "metadata": {},
   "source": [
    "##### Multinomial Naive Bayes"
   ]
  },
  {
   "cell_type": "code",
   "execution_count": 45,
   "metadata": {},
   "outputs": [
    {
     "name": "stdout",
     "output_type": "stream",
     "text": [
      "Multinomial NB Classifier Training Score: 0.73282\n",
      "Multinomial NB Classifier Testing Score: 0.73726 \n",
      "\n",
      "Accuracy Rate: 0.83787\n",
      "Misclassification Rate: 0.16213\n",
      "Specificity Rate: 0.8682\n",
      "Precision Rate: 0.58779\n",
      "Recall Rate: 0.72145\n",
      "F1 Score: 0.6478\n",
      "Multinomial NB Classifier confusion matrix:\n"
     ]
    },
    {
     "data": {
      "text/plain": [
       "<sklearn.metrics._plot.confusion_matrix.ConfusionMatrixDisplay at 0x14056db20>"
      ]
     },
     "execution_count": 45,
     "metadata": {},
     "output_type": "execute_result"
    },
    {
     "data": {
      "image/png": "[encoded data removed]",
      "text/plain": [
       "<Figure size 640x480 with 2 Axes>"
      ]
     },
     "metadata": {},
     "output_type": "display_data"
    }
   ],
   "source": [
    "mnb_class = MultinomialNB()\n",
    "\n",
    "class_model(mnb_class, 'Multinomial NB Classifier')"
   ]
  },
  {
   "attachments": {},
   "cell_type": "markdown",
   "metadata": {},
   "source": [
    "- Our MNB model did slightly better than the Ada Boost model, but still fell short of our 0.85 accuracy goal. \n",
    "- We will not be moving forward with MNB for our production model."
   ]
  },
  {
   "cell_type": "code",
   "execution_count": 46,
   "metadata": {},
   "outputs": [
    {
     "data": {
      "text/html": [
       "<div>\n",
       "<style scoped>\n",
       "    .dataframe tbody tr th:only-of-type {\n",
       "        vertical-align: middle;\n",
       "    }\n",
       "\n",
       "    .dataframe tbody tr th {\n",
       "        vertical-align: top;\n",
       "    }\n",
       "\n",
       "    .dataframe thead th {\n",
       "        text-align: right;\n",
       "    }\n",
       "</style>\n",
       "<table border=\"1\" class=\"dataframe\">\n",
       "  <thead>\n",
       "    <tr style=\"text-align: right;\">\n",
       "      <th></th>\n",
       "      <th>model_used</th>\n",
       "      <th>train_score</th>\n",
       "      <th>test_score</th>\n",
       "      <th>accuracy</th>\n",
       "      <th>f1_score</th>\n",
       "      <th>precision</th>\n",
       "      <th>recall</th>\n",
       "      <th>specificity</th>\n",
       "    </tr>\n",
       "  </thead>\n",
       "  <tbody>\n",
       "    <tr>\n",
       "      <th>2</th>\n",
       "      <td>Random Forest Classifier</td>\n",
       "      <td>1.000000</td>\n",
       "      <td>0.964434</td>\n",
       "      <td>0.978319</td>\n",
       "      <td>0.946621</td>\n",
       "      <td>0.963597</td>\n",
       "      <td>0.930233</td>\n",
       "      <td>0.990845</td>\n",
       "    </tr>\n",
       "    <tr>\n",
       "      <th>3</th>\n",
       "      <td>Bagging Classifier</td>\n",
       "      <td>0.996902</td>\n",
       "      <td>0.963687</td>\n",
       "      <td>0.978105</td>\n",
       "      <td>0.946124</td>\n",
       "      <td>0.962567</td>\n",
       "      <td>0.930233</td>\n",
       "      <td>0.990576</td>\n",
       "    </tr>\n",
       "    <tr>\n",
       "      <th>6</th>\n",
       "      <td>KNN Classifier</td>\n",
       "      <td>0.977142</td>\n",
       "      <td>0.958560</td>\n",
       "      <td>0.974901</td>\n",
       "      <td>0.938945</td>\n",
       "      <td>0.944096</td>\n",
       "      <td>0.933850</td>\n",
       "      <td>0.985595</td>\n",
       "    </tr>\n",
       "    <tr>\n",
       "      <th>1</th>\n",
       "      <td>Decision Tree Classifier</td>\n",
       "      <td>1.000000</td>\n",
       "      <td>0.958667</td>\n",
       "      <td>0.974581</td>\n",
       "      <td>0.938150</td>\n",
       "      <td>0.943544</td>\n",
       "      <td>0.932817</td>\n",
       "      <td>0.985460</td>\n",
       "    </tr>\n",
       "    <tr>\n",
       "      <th>4</th>\n",
       "      <td>Gradient Boosting Classifier</td>\n",
       "      <td>0.880937</td>\n",
       "      <td>0.876428</td>\n",
       "      <td>0.931005</td>\n",
       "      <td>0.810000</td>\n",
       "      <td>0.939932</td>\n",
       "      <td>0.711628</td>\n",
       "      <td>0.988153</td>\n",
       "    </tr>\n",
       "    <tr>\n",
       "      <th>0</th>\n",
       "      <td>Logistic Regression</td>\n",
       "      <td>0.804209</td>\n",
       "      <td>0.799744</td>\n",
       "      <td>0.875681</td>\n",
       "      <td>0.690426</td>\n",
       "      <td>0.711233</td>\n",
       "      <td>0.670801</td>\n",
       "      <td>0.929052</td>\n",
       "    </tr>\n",
       "    <tr>\n",
       "      <th>7</th>\n",
       "      <td>Multinomial NB Classifier</td>\n",
       "      <td>0.732821</td>\n",
       "      <td>0.737264</td>\n",
       "      <td>0.837872</td>\n",
       "      <td>0.647796</td>\n",
       "      <td>0.587789</td>\n",
       "      <td>0.721447</td>\n",
       "      <td>0.868201</td>\n",
       "    </tr>\n",
       "    <tr>\n",
       "      <th>5</th>\n",
       "      <td>Ada Boost Classifier</td>\n",
       "      <td>0.703340</td>\n",
       "      <td>0.710990</td>\n",
       "      <td>0.816832</td>\n",
       "      <td>0.453648</td>\n",
       "      <td>0.591362</td>\n",
       "      <td>0.367959</td>\n",
       "      <td>0.933764</td>\n",
       "    </tr>\n",
       "  </tbody>\n",
       "</table>\n",
       "</div>"
      ],
      "text/plain": [
       "                     model_used  train_score  test_score  accuracy  f1_score  \\\n",
       "2      Random Forest Classifier     1.000000    0.964434  0.978319  0.946621   \n",
       "3            Bagging Classifier     0.996902    0.963687  0.978105  0.946124   \n",
       "6                KNN Classifier     0.977142    0.958560  0.974901  0.938945   \n",
       "1      Decision Tree Classifier     1.000000    0.958667  0.974581  0.938150   \n",
       "4  Gradient Boosting Classifier     0.880937    0.876428  0.931005  0.810000   \n",
       "0           Logistic Regression     0.804209    0.799744  0.875681  0.690426   \n",
       "7     Multinomial NB Classifier     0.732821    0.737264  0.837872  0.647796   \n",
       "5          Ada Boost Classifier     0.703340    0.710990  0.816832  0.453648   \n",
       "\n",
       "   precision    recall  specificity  \n",
       "2   0.963597  0.930233     0.990845  \n",
       "3   0.962567  0.930233     0.990576  \n",
       "6   0.944096  0.933850     0.985595  \n",
       "1   0.943544  0.932817     0.985460  \n",
       "4   0.939932  0.711628     0.988153  \n",
       "0   0.711233  0.670801     0.929052  \n",
       "7   0.587789  0.721447     0.868201  \n",
       "5   0.591362  0.367959     0.933764  "
      ]
     },
     "execution_count": 46,
     "metadata": {},
     "output_type": "execute_result"
    }
   ],
   "source": [
    "class_models_eval.sort_values(by='accuracy', ascending=False)"
   ]
  },
  {
   "cell_type": "code",
   "execution_count": 47,
   "metadata": {},
   "outputs": [
    {
     "data": {
      "text/html": [
       "<div>\n",
       "<style scoped>\n",
       "    .dataframe tbody tr th:only-of-type {\n",
       "        vertical-align: middle;\n",
       "    }\n",
       "\n",
       "    .dataframe tbody tr th {\n",
       "        vertical-align: top;\n",
       "    }\n",
       "\n",
       "    .dataframe thead th {\n",
       "        text-align: right;\n",
       "    }\n",
       "</style>\n",
       "<table border=\"1\" class=\"dataframe\">\n",
       "  <thead>\n",
       "    <tr style=\"text-align: right;\">\n",
       "      <th></th>\n",
       "      <th>model_used</th>\n",
       "      <th>train_score</th>\n",
       "      <th>test_score</th>\n",
       "      <th>accuracy</th>\n",
       "      <th>f1_score</th>\n",
       "      <th>precision</th>\n",
       "      <th>recall</th>\n",
       "      <th>specificity</th>\n",
       "      <th>overfitness</th>\n",
       "    </tr>\n",
       "  </thead>\n",
       "  <tbody>\n",
       "    <tr>\n",
       "      <th>5</th>\n",
       "      <td>Ada Boost Classifier</td>\n",
       "      <td>0.703340</td>\n",
       "      <td>0.710990</td>\n",
       "      <td>0.816832</td>\n",
       "      <td>0.453648</td>\n",
       "      <td>0.591362</td>\n",
       "      <td>0.367959</td>\n",
       "      <td>0.933764</td>\n",
       "      <td>-0.007650</td>\n",
       "    </tr>\n",
       "    <tr>\n",
       "      <th>7</th>\n",
       "      <td>Multinomial NB Classifier</td>\n",
       "      <td>0.732821</td>\n",
       "      <td>0.737264</td>\n",
       "      <td>0.837872</td>\n",
       "      <td>0.647796</td>\n",
       "      <td>0.587789</td>\n",
       "      <td>0.721447</td>\n",
       "      <td>0.868201</td>\n",
       "      <td>-0.004443</td>\n",
       "    </tr>\n",
       "    <tr>\n",
       "      <th>0</th>\n",
       "      <td>Logistic Regression</td>\n",
       "      <td>0.804209</td>\n",
       "      <td>0.799744</td>\n",
       "      <td>0.875681</td>\n",
       "      <td>0.690426</td>\n",
       "      <td>0.711233</td>\n",
       "      <td>0.670801</td>\n",
       "      <td>0.929052</td>\n",
       "      <td>0.004465</td>\n",
       "    </tr>\n",
       "    <tr>\n",
       "      <th>4</th>\n",
       "      <td>Gradient Boosting Classifier</td>\n",
       "      <td>0.880937</td>\n",
       "      <td>0.876428</td>\n",
       "      <td>0.931005</td>\n",
       "      <td>0.810000</td>\n",
       "      <td>0.939932</td>\n",
       "      <td>0.711628</td>\n",
       "      <td>0.988153</td>\n",
       "      <td>0.004509</td>\n",
       "    </tr>\n",
       "    <tr>\n",
       "      <th>6</th>\n",
       "      <td>KNN Classifier</td>\n",
       "      <td>0.977142</td>\n",
       "      <td>0.958560</td>\n",
       "      <td>0.974901</td>\n",
       "      <td>0.938945</td>\n",
       "      <td>0.944096</td>\n",
       "      <td>0.933850</td>\n",
       "      <td>0.985595</td>\n",
       "      <td>0.018581</td>\n",
       "    </tr>\n",
       "    <tr>\n",
       "      <th>3</th>\n",
       "      <td>Bagging Classifier</td>\n",
       "      <td>0.996902</td>\n",
       "      <td>0.963687</td>\n",
       "      <td>0.978105</td>\n",
       "      <td>0.946124</td>\n",
       "      <td>0.962567</td>\n",
       "      <td>0.930233</td>\n",
       "      <td>0.990576</td>\n",
       "      <td>0.033216</td>\n",
       "    </tr>\n",
       "    <tr>\n",
       "      <th>2</th>\n",
       "      <td>Random Forest Classifier</td>\n",
       "      <td>1.000000</td>\n",
       "      <td>0.964434</td>\n",
       "      <td>0.978319</td>\n",
       "      <td>0.946621</td>\n",
       "      <td>0.963597</td>\n",
       "      <td>0.930233</td>\n",
       "      <td>0.990845</td>\n",
       "      <td>0.035566</td>\n",
       "    </tr>\n",
       "    <tr>\n",
       "      <th>1</th>\n",
       "      <td>Decision Tree Classifier</td>\n",
       "      <td>1.000000</td>\n",
       "      <td>0.958667</td>\n",
       "      <td>0.974581</td>\n",
       "      <td>0.938150</td>\n",
       "      <td>0.943544</td>\n",
       "      <td>0.932817</td>\n",
       "      <td>0.985460</td>\n",
       "      <td>0.041333</td>\n",
       "    </tr>\n",
       "  </tbody>\n",
       "</table>\n",
       "</div>"
      ],
      "text/plain": [
       "                     model_used  train_score  test_score  accuracy  f1_score  \\\n",
       "5          Ada Boost Classifier     0.703340    0.710990  0.816832  0.453648   \n",
       "7     Multinomial NB Classifier     0.732821    0.737264  0.837872  0.647796   \n",
       "0           Logistic Regression     0.804209    0.799744  0.875681  0.690426   \n",
       "4  Gradient Boosting Classifier     0.880937    0.876428  0.931005  0.810000   \n",
       "6                KNN Classifier     0.977142    0.958560  0.974901  0.938945   \n",
       "3            Bagging Classifier     0.996902    0.963687  0.978105  0.946124   \n",
       "2      Random Forest Classifier     1.000000    0.964434  0.978319  0.946621   \n",
       "1      Decision Tree Classifier     1.000000    0.958667  0.974581  0.938150   \n",
       "\n",
       "   precision    recall  specificity  overfitness  \n",
       "5   0.591362  0.367959     0.933764    -0.007650  \n",
       "7   0.587789  0.721447     0.868201    -0.004443  \n",
       "0   0.711233  0.670801     0.929052     0.004465  \n",
       "4   0.939932  0.711628     0.988153     0.004509  \n",
       "6   0.944096  0.933850     0.985595     0.018581  \n",
       "3   0.962567  0.930233     0.990576     0.033216  \n",
       "2   0.963597  0.930233     0.990845     0.035566  \n",
       "1   0.943544  0.932817     0.985460     0.041333  "
      ]
     },
     "execution_count": 47,
     "metadata": {},
     "output_type": "execute_result"
    }
   ],
   "source": [
    "class_models_eval['overfitness'] = class_models_eval['train_score'] - class_models_eval['test_score']\n",
    "class_models_eval.sort_values(by='overfitness')"
   ]
  },
  {
   "attachments": {},
   "cell_type": "markdown",
   "metadata": {},
   "source": [
    "#### Classification Model Conclusions\n",
    "\n",
    "All but two models met our 0.85 accuracy threshold (the mean accuracy score was 0.921), though the variance fluctuated greatly. \n",
    "\n",
    "The top-scoring models were, again, the Random Forest and Bagging classifiers. These two performed almost identically across various metrics, and both achieved accuracy scores of 0.978 (Random Forest edged out the Bagging model by just 0.000214). However, the Bagging model outperformed RF in one area - overfitness. Both models had moderate variance, but the gap between the train and test scores for the Bagging model was slightly smaller than that of RF.\n",
    "\n",
    "Another frontrunner in our classification trials was the KNN Classifier, which scored 0.975 on accuracy and had even less variance than the Bagging Classifier. For this reason, we'd likely choose to move forward with our KNN model.\n"
   ]
  }
 ],
 "metadata": {
  "kernelspec": {
   "display_name": "Python 3",
   "language": "python",
   "name": "python3"
  },
  "language_info": {
   "codemirror_mode": {
    "name": "ipython",
    "version": 3
   },
   "file_extension": ".py",
   "mimetype": "text/x-python",
   "name": "python",
   "nbconvert_exporter": "python",
   "pygments_lexer": "ipython3",
   "version": "3.9.6"
  },
  "orig_nbformat": 4,
  "vscode": {
   "interpreter": {
    "hash": "d3fbca8c5142a5f3fc0e150e2aa7dc992112775c37c59dc77ad7b753c4c0bceb"
   }
  }
 },
 "nbformat": 4,
 "nbformat_minor": 2
}
